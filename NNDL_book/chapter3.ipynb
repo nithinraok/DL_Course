{
 "cells": [
  {
   "cell_type": "code",
   "execution_count": 4,
   "metadata": {},
   "outputs": [],
   "source": [
    "import numpy as np\n",
    "from matplotlib import pyplot as plt\n",
    "import math\n",
    "%matplotlib inline\n",
    "\n",
    "def sigmoid(z):\n",
    "    return (1/(1+np.exp(-z)));\n",
    "\n",
    "def sigmoid_prime(z):\n",
    "    \"\"\"Derivative of the sigmoid function.\"\"\"\n",
    "    return sigmoid(z)*(1-sigmoid(z))\n",
    "\n",
    "def cost_QF(y,a,n):\n",
    "    return 1/n*(0.5*np.linalg.norm(y-a)**2)\n",
    "\n",
    "def cost_CE(y,a,n):\n",
    "    y=np.asarray(y);\n",
    "    a=np.asarray(a);\n",
    "    out=0;\n",
    "    for i in range(0,n):\n",
    "        out= out + y[i]*math.log(a[i]) + (1-y[i])*(math.log(1-a[i]));\n",
    "    return -(1/n)*out"
   ]
  },
  {
   "cell_type": "code",
   "execution_count": 5,
   "metadata": {},
   "outputs": [],
   "source": [
    "x=1\n",
    "y=np.array([0]);\n",
    "w=np.array([2]);\n",
    "b=np.array([2]);\n",
    "wce=np.array([2]);\n",
    "bce=np.array([2]);\n",
    "lr = 0.15\n",
    "lr_ce = 0.15\n",
    "cost = [];\n",
    "cost_CE_value = [];"
   ]
  },
  {
   "cell_type": "code",
   "execution_count": 6,
   "metadata": {},
   "outputs": [
    {
     "name": "stdout",
     "output_type": "stream",
     "text": [
      "Final output is 0.204467\n"
     ]
    },
    {
     "data": {
      "image/png": "[encoded data removed]",
      "text/plain": [
       "<matplotlib.figure.Figure at 0x1119fc0b8>"
      ]
     },
     "metadata": {},
     "output_type": "display_data"
    },
    {
     "name": "stdout",
     "output_type": "stream",
     "text": [
      "Final output is 0.012052\n"
     ]
    },
    {
     "data": {
      "image/png": "[encoded data removed]",
      "text/plain": [
       "<matplotlib.figure.Figure at 0x111a429e8>"
      ]
     },
     "metadata": {},
     "output_type": "display_data"
    }
   ],
   "source": [
    "for i in range(0,300) :\n",
    "    \"\"\" Quadratic Cost Function \"\"\"\n",
    "    a=sigmoid(w*x+b)\n",
    "    ace=sigmoid(wce*x+bce)\n",
    "    cost_CE_value.append(cost_CE(y,a,1));\n",
    "    cost.append(cost_QF(y,a,1));\n",
    "\n",
    "    wnew = w - lr*sigmoid_prime(w+b)*sigmoid(w+b)\n",
    "    bnew = b -lr*sigmoid_prime(w+b)*sigmoid(w+b)\n",
    "    w=wnew\n",
    "    b=bnew\n",
    "    \n",
    "    wnew_CE = wce- lr_ce*(x*(ace-y));\n",
    "    bnew_CE= bce - lr_ce*(ace-y);\n",
    "    wce = wnew_CE\n",
    "    bce = bnew_CE\n",
    "    \n",
    "plt.figure(1)\n",
    "print(\"Final output is %f\" %a)\n",
    "plt.subplot(2,1,1)\n",
    "plt.plot(cost)\n",
    "plt.xlabel('Epochs')\n",
    "plt.ylabel('Quadratic Cost')\n",
    "plt.show()\n",
    "\n",
    "plt.subplot(2,1,2)\n",
    "print(\"Final output is %f\" %ace)\n",
    "plt.plot(cost_CE_value)\n",
    "plt.xlabel('Epochs')\n",
    "plt.ylabel('Entrophy Cost')\n",
    "plt.show()\n"
   ]
  },
  {
   "cell_type": "code",
   "execution_count": null,
   "metadata": {},
   "outputs": [],
   "source": []
  }
 ],
 "metadata": {
  "kernelspec": {
   "display_name": "Python 3",
   "language": "python",
   "name": "python3"
  },
  "language_info": {
   "codemirror_mode": {
    "name": "ipython",
    "version": 3
   },
   "file_extension": ".py",
   "mimetype": "text/x-python",
   "name": "python",
   "nbconvert_exporter": "python",
   "pygments_lexer": "ipython3",
   "version": "3.6.3"
  }
 },
 "nbformat": 4,
 "nbformat_minor": 2
}
