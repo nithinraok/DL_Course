{
 "cells": [
  {
   "cell_type": "code",
   "execution_count": 1,
   "metadata": {},
   "outputs": [],
   "source": [
    "%matplotlib inline\n",
    "import numpy as np\n",
    "import matplotlib.pyplot as plt"
   ]
  },
  {
   "cell_type": "code",
   "execution_count": 2,
   "metadata": {},
   "outputs": [],
   "source": [
    "def sigmoid(x):\n",
    "    return (1/(1+np.exp(-x)));\n",
    "\n",
    "class Network(object):\n",
    "    \n",
    "    def __init__(self,sizes):\n",
    "        self.num_layers=len(sizes);\n",
    "        self.weights = [np.random.randn(y,x) for x,y in zip(sizes[:-1],sizes[1:])];\n",
    "        self.biases = [np.random.randn(y,1) for y in sizes[1:]]\n",
    "        self.sizes=sizes;\n",
    "\n",
    "    def feedforward(self,a):\n",
    "        \"\"\" Return the output of the whole Network for input \"\"a\"\" and weights and biases \"\"\"\n",
    "        for w,b in zip(self.weights,self.biases):\n",
    "            a=sigmoid(np.dot(w,a)+b);\n",
    "        return a;\n",
    "\n",
    "    def SGD(self,training_data,epoches,mini_batch_size,eta,test_data=None):\n",
    "        \"\"\"Perform Stochastic Gradiant Decent where training data is given in tuples as (x,y) eta is the learning rate\"\"\"\n",
    "        n= len(training_data);\n",
    "        for j in np.arange(0,epoches):\n",
    "            training_data=np.random.shuffle(training_data);\n",
    "            mini_batches=[training_data[k:k+mini_batch_size] for k in np.arange(0,n,mini_batch_size)];\n",
    "\n",
    "            for mini_batch in mini_batches :\n",
    "                #self.update_min_batch(mini_batch,eta);\n",
    "                print(\"Update Batch\")\n",
    "            \n",
    "            print(\"Epoch {0} / {1} completed\".format(j,epoches));\n",
    "    \n",
    "    def update_mini_batch(mini_batch,eta):\n",
    "        \n",
    "        nabla_b = [np.zeros(b.shape) for b in self.biases];\n",
    "        nabla_w = [np.zeros(w.shape) for w in self.weights];\n",
    "        \n",
    "        for (x,y) in mini_batch:\n",
    "            \n",
    "            delta_nabla_b, delta_nabla_w = self.backprob(x,y);\n",
    "            nabla_b = [nb + dnb for nb,dnb in zip(nabla_b,delta_nabla_b)];\n",
    "            nabla_w = [nw + dnw for nw,dnw in zip(nabla_w,delta_nabla_w)];\n",
    "        \n",
    "        self.weights = [w - (eta/len(mini_batch))*nw for w,nw in zip(self.weights,nabla_w) ];\n",
    "        self.biases = [b - (eta/len(mini_batch))*nb for b,nb in zip(self.biases,nabla_b) ];\n",
    "        \n",
    "            \n",
    "        \n",
    "               \n",
    "\n",
    "\n",
    "\n",
    "\n",
    "    "
   ]
  }
 ],
 "metadata": {
  "kernelspec": {
   "display_name": "Python 3",
   "language": "python",
   "name": "python3"
  },
  "language_info": {
   "codemirror_mode": {
    "name": "ipython",
    "version": 3
   },
   "file_extension": ".py",
   "mimetype": "text/x-python",
   "name": "python",
   "nbconvert_exporter": "python",
   "pygments_lexer": "ipython3",
   "version": "3.6.2"
  }
 },
 "nbformat": 4,
 "nbformat_minor": 2
}
