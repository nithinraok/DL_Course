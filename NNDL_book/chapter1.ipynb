{
 "cells": [
  {
   "cell_type": "code",
   "execution_count": 1,
   "metadata": {},
   "outputs": [],
   "source": [
    "%matplotlib inline\n",
    "import numpy as np\n",
    "import matplotlib.pyplot as plt"
   ]
  },
  {
   "cell_type": "code",
   "execution_count": 2,
   "metadata": {},
   "outputs": [],
   "source": [
    "def sigmoid(x):\n",
    "    return (1/(1+np.exp(-x)));\n",
    "\n",
    "def get_weights(cur_layer,next_layer):\n",
    "    \"\"\" Returns random weights to start with. including last row (all ones) for bias\n",
    "    where cur_layer is no of neurons for current layer and\n",
    "    next_layer is no of neurons for next layer\"\"\"\n",
    "    z=np.random.random((cur_layer-1,next_layer));\n",
    "    b=np.ones((1,next_layer));\n",
    "    w=np.vstack((z,b));\n",
    "    return w;\n",
    "\n",
    "def perceptron(input_x,weights):\n",
    "    return sigmoid(np.dot(input_x,weights));\n",
    "\n",
    "    "
   ]
  },
  {
   "cell_type": "code",
   "execution_count": 3,
   "metadata": {},
   "outputs": [],
   "source": [
    "inp_x=np.linspace(0,7,8);\n",
    "act_m = 4;\n",
    "y=4*inp_x;"
   ]
  },
  {
   "cell_type": "code",
   "execution_count": 4,
   "metadata": {},
   "outputs": [
    {
     "name": "stdout",
     "output_type": "stream",
     "text": [
      "[ 0.  1.  2.  3.  4.  5.  6.  7.]\n"
     ]
    }
   ],
   "source": [
    "print(inp_x)"
   ]
  },
  {
   "cell_type": "code",
   "execution_count": 11,
   "metadata": {},
   "outputs": [
    {
     "name": "stdout",
     "output_type": "stream",
     "text": [
      "dCdM is -140.000000 new_guess m is 0.750000 \n",
      "dCdM is 68.250000 new_guess m is -0.103125 \n",
      "dCdM is -11.847773 new_guess m is 0.044972 \n",
      "dCdM is 4.980253 new_guess m is -0.017281 \n",
      "dCdM is -1.943833 new_guess m is 0.007017 \n",
      "dCdM is 0.784516 new_guess m is -0.002790 \n",
      "dCdM is -0.312646 new_guess m is 0.001119 \n",
      "dCdM is 0.125241 new_guess m is -0.000447 \n",
      "dCdM is -0.050067 new_guess m is 0.000179 \n",
      "dCdM is 0.020032 new_guess m is -0.000072 \n",
      "dCdM is -0.008012 new_guess m is 0.000029 \n",
      "dCdM is 0.003205 new_guess m is -0.000011 \n",
      "dCdM is -0.001282 new_guess m is 0.000005 \n",
      "dCdM is 0.000513 new_guess m is -0.000002 \n",
      "dCdM is -0.000205 new_guess m is 0.000001 \n",
      "dCdM is 0.000082 new_guess m is -0.000000 \n",
      "dCdM is -0.000033 new_guess m is 0.000000 \n",
      "dCdM is 0.000013 new_guess m is -0.000000 \n",
      "dCdM is -0.000005 new_guess m is 0.000000 \n",
      "dCdM is 0.000002 new_guess m is -0.000000 \n",
      "dCdM is -0.000001 new_guess m is 0.000000 \n",
      "dCdM is 0.000000 new_guess m is -0.000000 \n",
      "dCdM is -0.000000 new_guess m is 0.000000 \n",
      "dCdM is 0.000000 new_guess m is -0.000000 \n",
      "dCdM is -0.000000 new_guess m is 0.000000 \n",
      "dCdM is 0.000000 new_guess m is -0.000000 \n",
      "dCdM is -0.000000 new_guess m is 0.000000 \n",
      "dCdM is 0.000000 new_guess m is -0.000000 \n",
      "dCdM is -0.000000 new_guess m is 0.000000 \n",
      "dCdM is 0.000000 new_guess m is -0.000000 \n",
      "dCdM is -0.000000 new_guess m is 0.000000 \n",
      "dCdM is 0.000000 new_guess m is -0.000000 \n",
      "dCdM is -0.000000 new_guess m is 0.000000 \n",
      "dCdM is 0.000000 new_guess m is -0.000000 \n",
      "dCdM is -0.000000 new_guess m is 0.000000 \n",
      "dCdM is 0.000000 new_guess m is -0.000000 \n",
      "dCdM is -0.000000 new_guess m is 0.000000 \n",
      "dCdM is 0.000000 new_guess m is -0.000000 \n",
      "dCdM is -0.000000 new_guess m is 0.000000 \n",
      "dCdM is 0.000000 new_guess m is -0.000000 \n",
      "dCdM is -0.000000 new_guess m is 0.000000 \n",
      "dCdM is 0.000000 new_guess m is -0.000000 \n",
      "dCdM is -0.000000 new_guess m is 0.000000 \n",
      "dCdM is 0.000000 new_guess m is -0.000000 \n",
      "dCdM is -0.000000 new_guess m is 0.000000 \n",
      "dCdM is 0.000000 new_guess m is -0.000000 \n",
      "dCdM is -0.000000 new_guess m is 0.000000 \n",
      "dCdM is 0.000000 new_guess m is -0.000000 \n",
      "dCdM is -0.000000 new_guess m is 0.000000 \n",
      "dCdM is 0.000000 new_guess m is -0.000000 \n",
      "dCdM is -0.000000 new_guess m is 0.000000 \n",
      "dCdM is 0.000000 new_guess m is -0.000000 \n",
      "dCdM is -0.000000 new_guess m is 0.000000 \n",
      "dCdM is 0.000000 new_guess m is -0.000000 \n",
      "dCdM is -0.000000 new_guess m is 0.000000 \n",
      "dCdM is 0.000000 new_guess m is -0.000000 \n",
      "dCdM is -0.000000 new_guess m is 0.000000 \n",
      "dCdM is 0.000000 new_guess m is -0.000000 \n",
      "dCdM is -0.000000 new_guess m is 0.000000 \n",
      "dCdM is 0.000000 new_guess m is -0.000000 \n",
      "dCdM is -0.000000 new_guess m is 0.000000 \n",
      "dCdM is 0.000000 new_guess m is -0.000000 \n",
      "dCdM is -0.000000 new_guess m is 0.000000 \n",
      "dCdM is 0.000000 new_guess m is -0.000000 \n",
      "dCdM is -0.000000 new_guess m is 0.000000 \n",
      "dCdM is 0.000000 new_guess m is -0.000000 \n",
      "dCdM is -0.000000 new_guess m is 0.000000 \n",
      "dCdM is 0.000000 new_guess m is -0.000000 \n",
      "dCdM is -0.000000 new_guess m is 0.000000 \n",
      "dCdM is 0.000000 new_guess m is -0.000000 \n",
      "dCdM is -0.000000 new_guess m is 0.000000 \n",
      "dCdM is 0.000000 new_guess m is -0.000000 \n",
      "dCdM is -0.000000 new_guess m is 0.000000 \n",
      "dCdM is 0.000000 new_guess m is -0.000000 \n",
      "dCdM is -0.000000 new_guess m is 0.000000 \n",
      "dCdM is 0.000000 new_guess m is -0.000000 \n",
      "dCdM is -0.000000 new_guess m is 0.000000 \n",
      "dCdM is 0.000000 new_guess m is -0.000000 \n",
      "dCdM is -0.000000 new_guess m is 0.000000 \n",
      "dCdM is 0.000000 new_guess m is -0.000000 \n",
      "dCdM is -0.000000 new_guess m is 0.000000 \n",
      "dCdM is 0.000000 new_guess m is -0.000000 \n",
      "dCdM is -0.000000 new_guess m is 0.000000 \n",
      "dCdM is 0.000000 new_guess m is -0.000000 \n",
      "dCdM is -0.000000 new_guess m is 0.000000 \n",
      "dCdM is 0.000000 new_guess m is -0.000000 \n",
      "dCdM is -0.000000 new_guess m is 0.000000 \n",
      "dCdM is 0.000000 new_guess m is -0.000000 \n",
      "dCdM is -0.000000 new_guess m is 0.000000 \n",
      "dCdM is 0.000000 new_guess m is -0.000000 \n",
      "dCdM is -0.000000 new_guess m is 0.000000 \n",
      "dCdM is 0.000000 new_guess m is -0.000000 \n",
      "dCdM is -0.000000 new_guess m is 0.000000 \n",
      "dCdM is 0.000000 new_guess m is -0.000000 \n",
      "dCdM is -0.000000 new_guess m is 0.000000 \n",
      "dCdM is 0.000000 new_guess m is -0.000000 \n",
      "dCdM is -0.000000 new_guess m is 0.000000 \n",
      "dCdM is 0.000000 new_guess m is -0.000000 \n",
      "dCdM is -0.000000 new_guess m is 0.000000 \n",
      "dCdM is 0.000000 new_guess m is -0.000000 \n"
     ]
    }
   ],
   "source": [
    "lr=0.1;\n",
    "guess_m= -1;\n",
    "num_x=len(inp_x);\n",
    "num_of_iter = 100;\n",
    "\n",
    "for i in np.arange(num_of_iter ):\n",
    "    dCdM = (sum(abs(guess_m*inp_x - y)*guess_m));\n",
    "    guess_m=guess_m - (lr/num_x)*dCdM;\n",
    "    print(\"dCdM is %f new_guess m is %f \"%(dCdM,guess_m))"
   ]
  },
  {
   "cell_type": "code",
   "execution_count": null,
   "metadata": {},
   "outputs": [],
   "source": []
  }
 ],
 "metadata": {
  "kernelspec": {
   "display_name": "Python 3",
   "language": "python",
   "name": "python3"
  },
  "language_info": {
   "codemirror_mode": {
    "name": "ipython",
    "version": 3
   },
   "file_extension": ".py",
   "mimetype": "text/x-python",
   "name": "python",
   "nbconvert_exporter": "python",
   "pygments_lexer": "ipython3",
   "version": "3.6.2"
  }
 },
 "nbformat": 4,
 "nbformat_minor": 2
}
