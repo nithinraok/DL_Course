{
 "cells": [
  {
   "cell_type": "code",
   "execution_count": 1,
   "metadata": {},
   "outputs": [],
   "source": [
    "%matplotlib inline\n",
    "import numpy as np \n",
    "import matplotlib.pyplot as plt"
   ]
  },
  {
   "cell_type": "code",
   "execution_count": 2,
   "metadata": {},
   "outputs": [],
   "source": [
    "def sigmoid(x):\n",
    "    return (1/(1+np.exp(-x)));\n",
    "\n",
    "def get_weights(cur_layer,next_layer):\n",
    "    \"\"\" Returns random weights to start with. including last row (all ones) for bias\n",
    "    where cur_layer is no of neurons for current layer and\n",
    "    next_layer is no of neurons for next layer\"\"\"\n",
    "    z=np.random.random((cur_layer-1,next_layer));\n",
    "    b=np.ones((1,next_layer));\n",
    "    w=np.vstack((z,b));\n",
    "    return w;\n",
    "\n",
    "def perceptron(input_x,weights):\n",
    "    return sigmoid(np.dot(input_x,weights));\n",
    "\n",
    "def step(x):\n",
    "    return 1*(x>0);\n",
    "\n",
    "def normal_perc(x,w,b):\n",
    "    return  step(np.dot(x,w)+b);    "
   ]
  },
  {
   "cell_type": "code",
   "execution_count": 3,
   "metadata": {},
   "outputs": [],
   "source": [
    "## Excersie to find weights of hidden layer 2 for 4 output neurons\n",
    "# http://neuralnetworksanddeeplearning.com/chap1.html#exercise_513527 "
   ]
  },
  {
   "cell_type": "code",
   "execution_count": 4,
   "metadata": {},
   "outputs": [],
   "source": [
    "weights= np.array(([0,0,0,0],[1,0,0,0],[0,1,0,0],[1,1,0,0],[0,0,1,0],[1,0,1,0],[0,1,1,0],[1,1,1,0],[0,0,0,1],[1,0,0,1]));"
   ]
  },
  {
   "cell_type": "code",
   "execution_count": 5,
   "metadata": {},
   "outputs": [
    {
     "name": "stdout",
     "output_type": "stream",
     "text": [
      "[[0 0 0 0]\n",
      " [1 0 0 0]\n",
      " [0 1 0 0]\n",
      " [1 1 0 0]\n",
      " [0 0 1 0]\n",
      " [1 0 1 0]\n",
      " [0 1 1 0]\n",
      " [1 1 1 0]\n",
      " [0 0 0 1]\n",
      " [1 0 0 1]]\n"
     ]
    }
   ],
   "source": [
    "print(weights)"
   ]
  },
  {
   "cell_type": "code",
   "execution_count": 6,
   "metadata": {},
   "outputs": [],
   "source": [
    "input_x=0.01*np.ones((1,10))"
   ]
  },
  {
   "cell_type": "code",
   "execution_count": 7,
   "metadata": {},
   "outputs": [
    {
     "name": "stdout",
     "output_type": "stream",
     "text": [
      "[[ 0.01  0.01  0.01  0.01  0.01  0.01  0.01  0.01  0.01  0.01]]\n"
     ]
    }
   ],
   "source": [
    "print(input_x)"
   ]
  },
  {
   "cell_type": "code",
   "execution_count": 8,
   "metadata": {},
   "outputs": [
    {
     "name": "stdout",
     "output_type": "stream",
     "text": [
      "[[ 0.01  0.01  0.01  0.01  0.01  0.99  0.01  0.01  0.01  0.01]]\n"
     ]
    }
   ],
   "source": [
    "# **finding if the weights currectly recognises digit 4**\n",
    "input_x[0,4]=0.01;\n",
    "input_x[0,5]=0.99;\n",
    "print(input_x)"
   ]
  },
  {
   "cell_type": "code",
   "execution_count": 9,
   "metadata": {},
   "outputs": [
    {
     "name": "stdout",
     "output_type": "stream",
     "text": [
      "[[ 1.03  0.04  1.02  0.02]]\n"
     ]
    }
   ],
   "source": [
    "output_array=np.dot(input_x,weights)\n",
    "print(output_array)"
   ]
  },
  {
   "cell_type": "code",
   "execution_count": 10,
   "metadata": {},
   "outputs": [
    {
     "name": "stdout",
     "output_type": "stream",
     "text": [
      "[[1 0 1 0]]\n"
     ]
    }
   ],
   "source": [
    "print(normal_perc(input_x,weights,-0.8))"
   ]
  },
  {
   "cell_type": "code",
   "execution_count": null,
   "metadata": {},
   "outputs": [],
   "source": []
  }
 ],
 "metadata": {
  "kernelspec": {
   "display_name": "Python 3",
   "language": "python",
   "name": "python3"
  },
  "language_info": {
   "codemirror_mode": {
    "name": "ipython",
    "version": 3
   },
   "file_extension": ".py",
   "mimetype": "text/x-python",
   "name": "python",
   "nbconvert_exporter": "python",
   "pygments_lexer": "ipython3",
   "version": "3.6.3"
  }
 },
 "nbformat": 4,
 "nbformat_minor": 2
}
