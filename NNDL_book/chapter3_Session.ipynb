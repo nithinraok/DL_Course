{
 "cells": [
  {
   "cell_type": "code",
   "execution_count": 1,
   "metadata": {},
   "outputs": [],
   "source": [
    "import numpy as np\n",
    "from matplotlib import pyplot as plt\n",
    "import math\n",
    "%matplotlib inline\n",
    "\n",
    "def sigmoid(z):\n",
    "    return (1/(1+np.exp(-z)));\n",
    "\n",
    "def sigmoid_prime(z):\n",
    "    \"\"\"Derivative of the sigmoid function.\"\"\"\n",
    "    return sigmoid(z)*(1-sigmoid(z))\n",
    "\n",
    "def cost_QF(y,a,n):\n",
    "    return (1/n)*(0.5*np.linalg.norm(y-a)**2)\n",
    "\n",
    "def update_weights(x,y,a,w,b):\n",
    "    sum1=0;\n",
    "    sum2=0;\n",
    "    for i in range(0,len(x)):\n",
    "        sum1=sum1+(y[i]-a[i])*(-sigmoid_prime(np.dot(w,x[i])+b)*x[i][0]); \n",
    "        sum2=sum2+(y[i]-a[i])*(-sigmoid_prime(np.dot(w,x[i])+b)*x[i][1]); \n",
    "    return [sum1,sum2]\n",
    "\n",
    "def update_bias(x,y,a,w,b):\n",
    "    sum1=0;\n",
    "    for i in range(0,len(x)):\n",
    "        sum1=sum1+(y[i]-a[i])*(-sigmoid_prime(np.dot(w,x[i])+b)); \n",
    "    return sum1"
   ]
  },
  {
   "cell_type": "code",
   "execution_count": 8,
   "metadata": {},
   "outputs": [],
   "source": [
    "x=np.array([[1,1], [0,0]]);\n",
    "y=np.array([0 ,1]);\n",
    "w=np.random.rand(1,2);\n",
    "b = np.random.rand(1,1);\n",
    "#a=np.array([0,0])\n",
    "lr = 0.2\n",
    "\n",
    "cost = [];\n",
    "n=len(x);"
   ]
  },
  {
   "cell_type": "code",
   "execution_count": 9,
   "metadata": {},
   "outputs": [
    {
     "name": "stdout",
     "output_type": "stream",
     "text": [
      "Final output is 0.117899 and 0.824963\n"
     ]
    },
    {
     "data": {
      "image/png": "[encoded data removed]",
      "text/plain": [
       "<matplotlib.figure.Figure at 0x106f7e3c8>"
      ]
     },
     "metadata": {},
     "output_type": "display_data"
    }
   ],
   "source": [
    "for i in range(0,300) :\n",
    "    \"\"\" Quadratic Cost Function \"\"\"\n",
    "    a=[];\n",
    "    for k in range(0,n):\n",
    "        a.append(np.max(sigmoid(np.dot(w,x[k])+b)))\n",
    "\n",
    "    cost.append(cost_QF(y,a,n));\n",
    "    \n",
    "\n",
    "    w[0][0] = w[0][0] - lr*update_weights(x,y,a,w,b)[0];\n",
    "    w[0][1] = w[0][1] - lr*update_weights(x,y,a,w,b)[1];\n",
    "    b = b -lr*update_bias(x,y,a,w,b);\n",
    "    \n",
    "plt.figure(1)\n",
    "print(\"Final output is %f and %f\" %(a[0],a[1]))\n",
    "plt.plot(cost)\n",
    "plt.xlabel('Epochs')\n",
    "plt.ylabel('Quadratic Cost')\n",
    "plt.show()\n"
   ]
  },
  {
   "cell_type": "code",
   "execution_count": null,
   "metadata": {},
   "outputs": [],
   "source": []
  }
 ],
 "metadata": {
  "kernelspec": {
   "display_name": "Python 3",
   "language": "python",
   "name": "python3"
  },
  "language_info": {
   "codemirror_mode": {
    "name": "ipython",
    "version": 3
   },
   "file_extension": ".py",
   "mimetype": "text/x-python",
   "name": "python",
   "nbconvert_exporter": "python",
   "pygments_lexer": "ipython3",
   "version": "3.6.3"
  }
 },
 "nbformat": 4,
 "nbformat_minor": 2
}
